{
 "cells": [
  {
   "cell_type": "code",
   "execution_count": 5,
   "id": "4866f723-16ed-4209-8456-07dedaa4acd4",
   "metadata": {},
   "outputs": [
    {
     "name": "stdout",
     "output_type": "stream",
     "text": [
      "<class 'int'>\n",
      "<class 'float'>\n",
      "<class 'str'>\n"
     ]
    }
   ],
   "source": [
    "# assign vars\n",
    "\n",
    "a = 2\n",
    "b = 3.142\n",
    "\n",
    "print(type(a))\n",
    "print(type(b))\n",
    "s = \"Hello World\"\n",
    "print(type(s))\n"
   ]
  },
  {
   "cell_type": "code",
   "execution_count": null,
   "id": "44b3f02f-6b4c-402d-a0b0-462eebd79170",
   "metadata": {},
   "outputs": [],
   "source": []
  },
  {
   "cell_type": "code",
   "execution_count": 6,
   "id": "20affba0-5e1c-4026-9daf-40a94436d38c",
   "metadata": {
    "scrolled": true
   },
   "outputs": [
    {
     "name": "stdout",
     "output_type": "stream",
     "text": [
      "a = 2 and b = 3.142\n",
      "5.1419999999999995\n",
      "6.284\n",
      "-1.142\n",
      "0.6365372374283896\n",
      "9.872164\n",
      "2.0\n",
      "0.8580000000000001\n"
     ]
    }
   ],
   "source": [
    "print(\"a =\", a, \"and b =\" , b)\n",
    "print(a + b)      # addition\n",
    "print(a * b)      # multiplication\n",
    "print(a - b)      # subtraction\n",
    "print(a / b)      # division\n",
    "print(b ** a)     # exponentiation\n",
    "print(a % b)      # modulus - returns the remainder\n",
    "print(2 * a % b)  # modulus - returns the remainder"
   ]
  },
  {
   "cell_type": "code",
   "execution_count": 7,
   "id": "bda15ae6-dde3-4c51-a59c-9dc2fe398ce5",
   "metadata": {},
   "outputs": [
    {
     "name": "stdout",
     "output_type": "stream",
     "text": [
      "a = 2 and b = 3.142\n",
      "8.283999999999999\n",
      "8.283999999999999\n",
      "10.283999999999999\n"
     ]
    }
   ],
   "source": [
    "print(\"a =\", a, \"and b =\" , b)\n",
    "print(a + 2*b)    # add a to two times b\n",
    "print(a + (2*b))  # same thing but explicit about order of evaluation\n",
    "print((a + b)*2)  # add a and b and then multiply by two"
   ]
  },
  {
   "cell_type": "code",
   "execution_count": 9,
   "id": "d79eec81-4207-4eed-9fb6-74693477c9ec",
   "metadata": {},
   "outputs": [
    {
     "data": {
      "text/plain": [
       "10.283999999999999"
      ]
     },
     "execution_count": 9,
     "metadata": {},
     "output_type": "execute_result"
    }
   ],
   "source": [
    "\n",
    "(\"a =\", a, \"and b =\" , b)\n",
    "(a + 2*b)    # add a to two times b\n",
    "(a + (2*b))  # same thing but explicit about order of evaluation\n",
    "((a + b)*2)  # add a and b and then multiply by two"
   ]
  },
  {
   "cell_type": "markdown",
   "id": "55283553-871f-4fea-a9dc-e1926d852660",
   "metadata": {},
   "source": [
    "# Basic Python\n",
    "*Help function*\n"
   ]
  },
  {
   "cell_type": "code",
   "execution_count": 12,
   "id": "1800ac21-4781-4122-9fdc-e230d4cf2f7b",
   "metadata": {},
   "outputs": [
    {
     "name": "stdout",
     "output_type": "stream",
     "text": [
      "Help on built-in function print in module builtins:\n",
      "\n",
      "print(*args, sep=' ', end='\\n', file=None, flush=False)\n",
      "    Prints the values to a stream, or to sys.stdout by default.\n",
      "\n",
      "    sep\n",
      "      string inserted between values, default a space.\n",
      "    end\n",
      "      string appended after the last value, default a newline.\n",
      "    file\n",
      "      a file-like object (stream); defaults to the current sys.stdout.\n",
      "    flush\n",
      "      whether to forcibly flush the stream.\n",
      "\n"
     ]
    }
   ],
   "source": [
    "help(print)"
   ]
  },
  {
   "cell_type": "code",
   "execution_count": 13,
   "id": "b668a007-8d73-4c62-9808-ba5b6e1a0a9e",
   "metadata": {},
   "outputs": [
    {
     "name": "stdout",
     "output_type": "stream",
     "text": [
      "Hello World\n",
      "Hello Luke How are you?\n",
      "Hello this is Luke's code\n"
     ]
    }
   ],
   "source": [
    "mystring = \"Hello World\"\n",
    "print(mystring)\n",
    "\n",
    "name = \"Luke\"\n",
    "mystring = 'Hello ' + name + ' How are you?'\n",
    "print(mystring)\n",
    "\n",
    "mystring = 'Hello this is ' + name + \"'s code\"\n",
    "print(mystring)"
   ]
  },
  {
   "cell_type": "code",
   "execution_count": 14,
   "id": "17d27a37-3e07-400e-b885-2059f82f02e6",
   "metadata": {},
   "outputs": [
    {
     "name": "stdout",
     "output_type": "stream",
     "text": [
      "Hello World\n"
     ]
    }
   ],
   "source": [
    " mystring = \"Hello World\"\n",
    "print(mystring)"
   ]
  },
  {
   "cell_type": "code",
   "execution_count": 15,
   "id": "e14baf0b-a656-4a97-b69e-ca5f46414913",
   "metadata": {},
   "outputs": [
    {
     "name": "stdout",
     "output_type": "stream",
     "text": [
      "True\n",
      "0\n",
      "THE QUICK BROWN FOX\n",
      "The quick brown fox\n"
     ]
    }
   ],
   "source": [
    "myString = \"The quick brown fox\"\n",
    "\n",
    "print(myString.startswith(\"The\"))\n",
    "print(myString.find(\"The\"))        # notice that string positions start with 0 like all indexing in Python\n",
    "print(myString.upper())            # The contents of myString is not changed, if you wanted an uppercase version\n",
    "print(myString)                    # you would have to assign it to a new variable"
   ]
  },
  {
   "cell_type": "code",
   "execution_count": 16,
   "id": "77b97cc5-93cd-4190-8a68-84e6c94a270b",
   "metadata": {},
   "outputs": [
    {
     "name": "stdout",
     "output_type": "stream",
     "text": [
      "T\n",
      "o\n",
      "x\n",
      "The\n",
      "The quick brown fox\n",
      "The quick\n",
      "quick\n"
     ]
    }
   ],
   "source": [
    "myString = \"The quick brown fox\"\n",
    "\n",
    "print(myString[0])\n",
    "print(myString[12])\n",
    "print(myString[18])\n",
    "\n",
    "print(myString[0:3])\n",
    "print(myString[0:])        # from index 0 to the end\n",
    "print(myString[:9])        # from the beginning to one before index 9\n",
    "print(myString[4:9])"
   ]
  },
  {
   "cell_type": "code",
   "execution_count": 17,
   "id": "6ebeccf3-f080-4b40-8cda-0f9681b41720",
   "metadata": {},
   "outputs": [
    {
     "name": "stdout",
     "output_type": "stream",
     "text": [
      "True\n",
      "False\n",
      "<class 'bool'>\n",
      "True\n",
      "<class 'bool'>\n",
      "False\n"
     ]
    }
   ],
   "source": [
    "print(True)\n",
    "print(False)\n",
    "bool_val_t = True\n",
    "print(type(bool_val_t))\n",
    "print(bool_val_t)\n",
    "bool_val_f = False\n",
    "print(type(bool_val_f))\n",
    "print(bool_val_f)"
   ]
  },
  {
   "cell_type": "code",
   "execution_count": 18,
   "id": "5cc5a8f4-6174-48db-a927-1e11f35d402d",
   "metadata": {},
   "outputs": [
    {
     "ename": "NameError",
     "evalue": "name 'true' is not defined",
     "output_type": "error",
     "traceback": [
      "\u001b[0;31m---------------------------------------------------------------------------\u001b[0m",
      "\u001b[0;31mNameError\u001b[0m                                 Traceback (most recent call last)",
      "Cell \u001b[0;32mIn[18], line 1\u001b[0m\n\u001b[0;32m----> 1\u001b[0m \u001b[38;5;28mprint\u001b[39m(true)\n\u001b[1;32m      2\u001b[0m \u001b[38;5;28mprint\u001b[39m(false)\n",
      "\u001b[0;31mNameError\u001b[0m: name 'true' is not defined"
     ]
    }
   ],
   "source": [
    "print(true)\n",
    "print(false)"
   ]
  },
  {
   "cell_type": "code",
   "execution_count": 20,
   "id": "3616d9b7-c2fe-444f-b8dc-2d7d275650be",
   "metadata": {},
   "outputs": [
    {
     "name": "stdout",
     "output_type": "stream",
     "text": [
      "False\n",
      "True\n",
      "False\n",
      "True\n",
      "False\n"
     ]
    }
   ],
   "source": [
    "print('hello' == 'HELLO')\n",
    "print('hello' is 'hello')\n",
    "print(3 == 77)\n",
    "print(1 < 2)\n",
    "print('four' > 'three')"
   ]
  },
  {
   "cell_type": "code",
   "execution_count": 22,
   "id": "2d8905e6-5435-4783-b252-076d8d0712e6",
   "metadata": {},
   "outputs": [
    {
     "name": "stdout",
     "output_type": "stream",
     "text": [
      "[6, 54, 89]\n",
      "<class 'list'>\n",
      "[3.142, 2.71828, 9.8]\n",
      "<class 'list'>\n",
      "['Hello', 'to', 'Peter']\n",
      "['Hello', 'to', 'Peter']\n",
      "<class 'list'>\n",
      "[6, 5.4, 'numbers', True]\n",
      "<class 'list'>\n"
     ]
    }
   ],
   "source": [
    "list1 = [6, 54, 89 ]\n",
    "print(list1)\n",
    "print(type(list1))\n",
    "\n",
    "list2 = [3.142, 2.71828, 9.8 ]\n",
    "print(list2)\n",
    "print(type(list2))\n",
    "\n",
    "myname = \"Peter\"\n",
    "list3 = [\"Hello\", 'to', myname ]\n",
    "print(list3)\n",
    "myname = \"Fred\"\n",
    "print(list3)\n",
    "print(type(list3))\n",
    "\n",
    "list4 = [6, 5.4, \"numbers\", True ]\n",
    "print(list4)\n",
    "print(type(list4))"
   ]
  },
  {
   "cell_type": "code",
   "execution_count": 27,
   "id": "35e7d789-18bc-49b2-b5f2-f106c36704fd",
   "metadata": {},
   "outputs": [
    {
     "name": "stdout",
     "output_type": "stream",
     "text": [
      "11\n",
      "[5, 11]\n"
     ]
    }
   ],
   "source": [
    "num_list = [4,5,6,11]\n",
    "\n",
    "last_num_in_list = num_list[-1]\n",
    "print(last_num_in_list)\n",
    "\n",
    "odd_from_list = [num_list[1], num_list[3]]\n",
    "print(odd_from_list)\n"
   ]
  },
  {
   "cell_type": "code",
   "execution_count": 24,
   "id": "acb09947-1576-446e-beef-ca7ffac1a0bc",
   "metadata": {},
   "outputs": [
    {
     "name": "stdout",
     "output_type": "stream",
     "text": [
      "[0, 1, 2, 3, 4]\n"
     ]
    }
   ],
   "source": [
    "list5 = list(range(5))\n",
    "print(list5)\n",
    "\n"
   ]
  },
  {
   "cell_type": "code",
   "execution_count": 25,
   "id": "b2ef0b48-d4da-4449-9aae-20666cbe37f6",
   "metadata": {},
   "outputs": [
    {
     "name": "stdout",
     "output_type": "stream",
     "text": [
      "[1, 2, 3, 4, 5, 6, 7, 8]\n",
      "[2, 4, 6, 8, 10]\n"
     ]
    }
   ],
   "source": [
    "list6 = list(range(1, 9))\n",
    "print(list6)\n",
    "list7 = list(range(2, 11, 2))\n",
    "print(list7)"
   ]
  },
  {
   "cell_type": "code",
   "execution_count": 26,
   "id": "10807ec9-1776-4b7f-a0a6-2127c3ff0c8f",
   "metadata": {},
   "outputs": [
    {
     "name": "stdout",
     "output_type": "stream",
     "text": [
      "[]\n",
      "[10, 8, 6, 4, 2]\n"
     ]
    }
   ],
   "source": [
    "list7 = list(range(2, 11, -2))\n",
    "print(list7)\n",
    "\n",
    "list8 = list(range(10, 1, -2))\n",
    "print(list8)"
   ]
  },
  {
   "cell_type": "code",
   "execution_count": null,
   "id": "b8837270-e1be-4825-9975-5a05a3c75b6f",
   "metadata": {},
   "outputs": [],
   "source": []
  }
 ],
 "metadata": {
  "kernelspec": {
   "display_name": "Python [conda env:base] *",
   "language": "python",
   "name": "conda-base-py"
  },
  "language_info": {
   "codemirror_mode": {
    "name": "ipython",
    "version": 3
   },
   "file_extension": ".py",
   "mimetype": "text/x-python",
   "name": "python",
   "nbconvert_exporter": "python",
   "pygments_lexer": "ipython3",
   "version": "3.13.5"
  }
 },
 "nbformat": 4,
 "nbformat_minor": 5
}
